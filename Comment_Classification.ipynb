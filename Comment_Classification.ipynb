{
  "nbformat": 4,
  "nbformat_minor": 0,
  "metadata": {
    "colab": {
      "provenance": [],
      "gpuType": "T4",
      "authorship_tag": "ABX9TyP3JJ8Y8I8OrvAS/xyKy/W9",
      "include_colab_link": true
    },
    "kernelspec": {
      "name": "python3",
      "display_name": "Python 3"
    },
    "language_info": {
      "name": "python"
    },
    "accelerator": "GPU"
  },
  "cells": [
    {
      "cell_type": "markdown",
      "metadata": {
        "id": "view-in-github",
        "colab_type": "text"
      },
      "source": [
        "<a href=\"https://colab.research.google.com/github/dishabarmola/Toxicity_Classifier/blob/main/Comment_Classification.ipynb\" target=\"_parent\"><img src=\"https://colab.research.google.com/assets/colab-badge.svg\" alt=\"Open In Colab\"/></a>"
      ]
    },
    {
      "cell_type": "code",
      "execution_count": null,
      "metadata": {
        "id": "851FF8xzDGIE"
      },
      "outputs": [],
      "source": [
        "import os\n",
        "import sklearn\n",
        "import tensorflow as tf\n",
        "import numpy as np\n",
        "import pandas as pd\n",
        "import matplotlib.pyplot as plt\n",
        "import seaborn as sns"
      ]
    },
    {
      "cell_type": "code",
      "source": [
        "df = pd.read_csv('train.csv')"
      ],
      "metadata": {
        "id": "Wff4NULUtSs7"
      },
      "execution_count": null,
      "outputs": []
    },
    {
      "cell_type": "code",
      "source": [
        "df.head()"
      ],
      "metadata": {
        "id": "_DIDTtjGye6L"
      },
      "execution_count": null,
      "outputs": []
    },
    {
      "cell_type": "markdown",
      "source": [
        "VECTORISATION (PREPROCESSING DATA)"
      ],
      "metadata": {
        "id": "fjKoY5149q6g"
      }
    },
    {
      "cell_type": "code",
      "source": [
        "from tensorflow.keras.layers import TextVectorization"
      ],
      "metadata": {
        "id": "_uFiB-q8zJJr"
      },
      "execution_count": null,
      "outputs": []
    },
    {
      "cell_type": "code",
      "source": [
        "df['comment_text']\n"
      ],
      "metadata": {
        "id": "HAVr8a1c1eDy"
      },
      "execution_count": null,
      "outputs": []
    },
    {
      "cell_type": "code",
      "source": [
        "df[df.columns[2:]].values"
      ],
      "metadata": {
        "id": "Gj6PLgX80yas"
      },
      "execution_count": null,
      "outputs": []
    },
    {
      "cell_type": "code",
      "source": [
        "x = df['comment_text']\n",
        "y = df[df.columns[2:]].values"
      ],
      "metadata": {
        "id": "5WP5-a2Q2AKJ"
      },
      "execution_count": null,
      "outputs": []
    },
    {
      "cell_type": "code",
      "source": [
        "MAX_FEATURES = 200000 # NUM OF WORDS IN VOCABULARY"
      ],
      "metadata": {
        "id": "fAOgcloN2KgR"
      },
      "execution_count": null,
      "outputs": []
    },
    {
      "cell_type": "code",
      "source": [
        "vectorizer = TextVectorization(max_tokens=MAX_FEATURES,\n",
        "                               output_sequence_length=1800,# max input length we are gonna pass\n",
        "                               output_mode='int')"
      ],
      "metadata": {
        "id": "IqjWEera2YOV"
      },
      "execution_count": null,
      "outputs": []
    },
    {
      "cell_type": "code",
      "source": [
        "vectorizer.adapt(x.values)"
      ],
      "metadata": {
        "id": "RcRjnQ6J3JbB"
      },
      "execution_count": null,
      "outputs": []
    },
    {
      "cell_type": "code",
      "source": [
        "vectorizer.get_vocabulary()"
      ],
      "metadata": {
        "id": "f2Ok4t7-3ZSf"
      },
      "execution_count": null,
      "outputs": []
    },
    {
      "cell_type": "code",
      "source": [
        "vectorizer('i am good')[:3]"
      ],
      "metadata": {
        "id": "b3_8s3vV3t4E"
      },
      "execution_count": null,
      "outputs": []
    },
    {
      "cell_type": "code",
      "source": [
        "vectorized_text = vectorizer(x.values)"
      ],
      "metadata": {
        "id": "GiyN2F1w4Lk0"
      },
      "execution_count": null,
      "outputs": []
    },
    {
      "cell_type": "code",
      "source": [
        "vectorized_text"
      ],
      "metadata": {
        "id": "9yzCnpJ84S70"
      },
      "execution_count": null,
      "outputs": []
    },
    {
      "cell_type": "code",
      "source": [
        "#data pipeline steps\n",
        "# map caching shuffle batch prefetch\n",
        "dataset = tf.data.Dataset.from_tensor_slices((vectorized_text, y))\n",
        "dataset = dataset.cache()\n",
        "dataset = dataset.shuffle(160000)\n",
        "dataset = dataset.batch(16)\n",
        "dataset = dataset.prefetch(8)\n"
      ],
      "metadata": {
        "id": "mDs1f5Ap4gcs"
      },
      "execution_count": null,
      "outputs": []
    },
    {
      "cell_type": "code",
      "source": [
        "train = dataset.take(int(len(dataset)*.7))\n",
        "val = dataset.skip(int(len(dataset)*.7)).take(int(len(dataset)*.2))\n",
        "test = dataset.skip(int(len(dataset)*.9)).take(int(len(dataset)*.1))"
      ],
      "metadata": {
        "id": "ybLTRr_v6FBU"
      },
      "execution_count": null,
      "outputs": []
    },
    {
      "cell_type": "markdown",
      "source": [
        "MODEL TRAINING AND CREATION"
      ],
      "metadata": {
        "id": "7OYBfXLw9ii1"
      }
    },
    {
      "cell_type": "code",
      "source": [
        "from tensorflow.keras.models import Sequential\n",
        "from tensorflow.keras.layers import LSTM, Dropout, Bidirectional, Dense, Embedding"
      ],
      "metadata": {
        "id": "DeHuTyBt9hLL"
      },
      "execution_count": null,
      "outputs": []
    },
    {
      "cell_type": "code",
      "source": [
        "model = Sequential()\n",
        "#  create embedding layer\n",
        "model.add(Embedding(MAX_FEATURES+1, 32))\n",
        "# bidirectional lstm layer\n",
        "model.add(Bidirectional(LSTM(32, activation='tanh')))\n",
        "# feature extractor (relu is used generally to tackle non linearity and has no vanishing gradient problem)\n",
        "model.add(Dense(128, activation='relu'))\n",
        "model.add(Dense(256, activation='relu'))\n",
        "model.add(Dense(128, activation='relu'))\n",
        "# final layer (sigmoid to keep value within range 0-1)\n",
        "model.add(Dense(6, activation='sigmoid'))\n"
      ],
      "metadata": {
        "id": "0fphMi_LEbLL"
      },
      "execution_count": null,
      "outputs": []
    },
    {
      "cell_type": "code",
      "source": [
        "model.compile(loss='BinaryCrossentropy', optimizer='Adam')"
      ],
      "metadata": {
        "id": "YSUZtuf4Ij9_"
      },
      "execution_count": null,
      "outputs": []
    },
    {
      "cell_type": "code",
      "source": [
        "model.summary()"
      ],
      "metadata": {
        "id": "TFja1eroJSom"
      },
      "execution_count": null,
      "outputs": []
    },
    {
      "cell_type": "code",
      "source": [
        "history = model.fit(train, epochs=10, validation_data=val)"
      ],
      "metadata": {
        "id": "u8y_wYGmJm_g"
      },
      "execution_count": null,
      "outputs": []
    },
    {
      "cell_type": "markdown",
      "source": [
        "PLOT"
      ],
      "metadata": {
        "id": "KXW1bYmMNUvt"
      }
    },
    {
      "cell_type": "code",
      "source": [
        "plt.figure(figsize=(8,5))\n",
        "pd.DataFrame(history.history).plot()\n",
        "plt.show()"
      ],
      "metadata": {
        "id": "HdCe3dxDNJUc"
      },
      "execution_count": null,
      "outputs": []
    },
    {
      "cell_type": "markdown",
      "source": [
        "PREDICTIONS"
      ],
      "metadata": {
        "id": "Z5t_3zf8NljJ"
      }
    },
    {
      "cell_type": "code",
      "source": [
        "text = vectorizer('you bitch! how dare you speak to me like that')"
      ],
      "metadata": {
        "id": "Zzszl_3bNd8B"
      },
      "execution_count": null,
      "outputs": []
    },
    {
      "cell_type": "code",
      "source": [
        "res = model.predict(np.array([text]))"
      ],
      "metadata": {
        "id": "9l_jKZTzNxCP"
      },
      "execution_count": null,
      "outputs": []
    },
    {
      "cell_type": "code",
      "source": [
        "df.columns[2:]"
      ],
      "metadata": {
        "id": "JuBgapRPOPsX"
      },
      "execution_count": null,
      "outputs": []
    },
    {
      "cell_type": "code",
      "source": [
        "res"
      ],
      "metadata": {
        "id": "OjubI-YgOHeY"
      },
      "execution_count": null,
      "outputs": []
    },
    {
      "cell_type": "code",
      "source": [
        "res  = model.predict(np.expand_dims(text, 0))"
      ],
      "metadata": {
        "id": "jSAnfwJgOckK"
      },
      "execution_count": null,
      "outputs": []
    },
    {
      "cell_type": "code",
      "source": [
        "res"
      ],
      "metadata": {
        "id": "OCVO9uKpOlrb"
      },
      "execution_count": null,
      "outputs": []
    },
    {
      "cell_type": "code",
      "source": [
        "from tensorflow.keras.metrics import Precision , Recall , CategoricalAccuracy"
      ],
      "metadata": {
        "id": "xsFdZUgRO63l"
      },
      "execution_count": null,
      "outputs": []
    },
    {
      "cell_type": "code",
      "source": [
        "pre = Precision()\n",
        "re = Recall()\n",
        "acc = CategoricalAccuracy()\n"
      ],
      "metadata": {
        "id": "Y2D3B2wlPOct"
      },
      "execution_count": null,
      "outputs": []
    },
    {
      "cell_type": "code",
      "source": [
        "for batch in test.as_numpy_iterator():\n",
        "  # unpack the batch\n",
        "  x_true , y_true = batch\n",
        "  # prediction\n",
        "  yhat = model.predict(x_true)\n",
        "  # flatten the prediction\n",
        "  y_true = y_true.flatten()\n",
        "  yhat = yhat.flatten()\n",
        "  # update these metrics\n",
        "  pre.update_state(y_true, yhat)\n",
        "  re.update_state(y_true, yhat)\n",
        "  acc.update_state(y_true, yhat)"
      ],
      "metadata": {
        "id": "B9u9fYzvPfHD"
      },
      "execution_count": null,
      "outputs": []
    },
    {
      "cell_type": "code",
      "source": [
        "print(f'Precision: {pre.result().numpy()}, Recall: {re.result().numpy()}, Accuracy: {acc.result().numpy()}')"
      ],
      "metadata": {
        "id": "fE08bF5tR866"
      },
      "execution_count": null,
      "outputs": []
    },
    {
      "cell_type": "markdown",
      "source": [
        "GRADIO"
      ],
      "metadata": {
        "id": "LJLPy4fTSZK1"
      }
    },
    {
      "cell_type": "code",
      "source": [
        "!pip install gradio jinja2"
      ],
      "metadata": {
        "id": "Bi6ojduCSa4g"
      },
      "execution_count": null,
      "outputs": []
    },
    {
      "cell_type": "code",
      "source": [
        "import gradio as gr"
      ],
      "metadata": {
        "id": "nejN3QvMSikA"
      },
      "execution_count": null,
      "outputs": []
    },
    {
      "cell_type": "markdown",
      "metadata": {
        "id": "7e166b18"
      },
      "source": [
        "SAVE MODEL"
      ]
    },
    {
      "cell_type": "code",
      "metadata": {
        "id": "5f7dc23a"
      },
      "source": [
        "model.save('comment_toxicity.h5')"
      ],
      "execution_count": null,
      "outputs": []
    },
    {
      "cell_type": "code",
      "metadata": {
        "id": "379ea237"
      },
      "source": [
        "from google.colab import files\n",
        "files.download('comment_toxicity.h5')"
      ],
      "execution_count": null,
      "outputs": []
    },
    {
      "cell_type": "code",
      "source": [
        "def commentor(comment):\n",
        "  vec = vectorizer([comment])\n",
        "  res = model.predict(vec)\n",
        "\n",
        "  txt = ''\n",
        "  for idx , col in enumerate(df.columns[2:]):\n",
        "    txt += '{}: {}\\n'.format(col, res[0][idx]>0.5)\n",
        "  return txt"
      ],
      "metadata": {
        "id": "ruLGPKChUiuu"
      },
      "execution_count": null,
      "outputs": []
    },
    {
      "cell_type": "code",
      "source": [
        "interface = gr.Interface(fn=commentor,\n",
        "                         inputs=gr.Textbox(lines=2, placeholder='Comment here...'),\n",
        "                         outputs='text')"
      ],
      "metadata": {
        "id": "CQSDCr59U65Q"
      },
      "execution_count": null,
      "outputs": []
    },
    {
      "cell_type": "code",
      "source": [
        "interface.launch(share=True)"
      ],
      "metadata": {
        "id": "1UkPi1TeVVsA"
      },
      "execution_count": null,
      "outputs": []
    }
  ]
}